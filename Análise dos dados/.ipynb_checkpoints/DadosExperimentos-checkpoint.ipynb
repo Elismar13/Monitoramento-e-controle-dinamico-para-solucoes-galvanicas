{
 "cells": [
  {
   "cell_type": "markdown",
   "metadata": {},
   "source": [
    "# Dados coletados do experimento "
   ]
  },
  {
   "cell_type": "code",
   "execution_count": 5,
   "metadata": {
    "scrolled": false
   },
   "outputs": [
    {
     "ename": "NameError",
     "evalue": "name 'geraGrafico' is not defined",
     "output_type": "error",
     "traceback": [
      "\u001b[0;31m---------------------------------------------------------------------------\u001b[0m",
      "\u001b[0;31mNameError\u001b[0m                                 Traceback (most recent call last)",
      "\u001b[0;32m<ipython-input-5-8c993f9767b3>\u001b[0m in \u001b[0;36m<module>\u001b[0;34m\u001b[0m\n\u001b[0;32m----> 1\u001b[0;31m geraGrafico(\"Date\", \"Zn.Oxi - metallic potential V - Volts\", solucao1, 6430, len(solucao1), -0.05, -0.150,\n\u001b[0m\u001b[1;32m      2\u001b[0m             minutos=30, cor='red')\n",
      "\u001b[0;31mNameError\u001b[0m: name 'geraGrafico' is not defined"
     ]
    }
   ],
   "source": [
    "geraGrafico(\"Date\", \"Zn.Oxi - metallic potential V - Volts\", solucao1, 6430, len(solucao1), -0.05, -0.150,\n",
    "            minutos=30, cor='red')"
   ]
  },
  {
   "cell_type": "code",
   "execution_count": 6,
   "metadata": {
    "scrolled": false
   },
   "outputs": [
    {
     "ename": "NameError",
     "evalue": "name 'geraGrafico' is not defined",
     "output_type": "error",
     "traceback": [
      "\u001b[0;31m---------------------------------------------------------------------------\u001b[0m",
      "\u001b[0;31mNameError\u001b[0m                                 Traceback (most recent call last)",
      "\u001b[0;32m<ipython-input-6-0dcf368f5b27>\u001b[0m in \u001b[0;36m<module>\u001b[0;34m\u001b[0m\n\u001b[0;32m----> 1\u001b[0;31m geraGrafico(\"Date\", \"Al.Oxi - metallic potential V - Volts\", solucao2, 6430, len(solucao2), -0.05, -0.4, \n\u001b[0m\u001b[1;32m      2\u001b[0m             minutos=30, cor='green')\n",
      "\u001b[0;31mNameError\u001b[0m: name 'geraGrafico' is not defined"
     ]
    }
   ],
   "source": [
    "geraGrafico(\"Date\", \"Al.Oxi - metallic potential V - Volts\", solucao2, 6430, len(solucao2), -0.05, -0.4, \n",
    "            minutos=30, cor='green')"
   ]
  },
  {
   "cell_type": "code",
   "execution_count": null,
   "metadata": {
    "scrolled": false
   },
   "outputs": [],
   "source": [
    "geraGrafico(\"Date\", \"Zn.sur - metallic potential V - Volts\",solucao3, 6430, \n",
    "            len(solucao3), -0.00, solucao3.min()-0.05, minutos=30, cor='blue')"
   ]
  },
  {
   "cell_type": "code",
   "execution_count": 4,
   "metadata": {
    "scrolled": false
   },
   "outputs": [
    {
     "ename": "NameError",
     "evalue": "name 'geraGrafico' is not defined",
     "output_type": "error",
     "traceback": [
      "\u001b[0;31m---------------------------------------------------------------------------\u001b[0m",
      "\u001b[0;31mNameError\u001b[0m                                 Traceback (most recent call last)",
      "\u001b[0;32m<ipython-input-4-93ff46efa683>\u001b[0m in \u001b[0;36m<module>\u001b[0;34m\u001b[0m\n\u001b[0;32m----> 1\u001b[0;31m geraGrafico(\"Date\", \"Al.Sur - metallic potential V - Volts\", solucao4, 6430, len(solucao4), -0.30, \n\u001b[0m\u001b[1;32m      2\u001b[0m             solucao4[100:].min(), minutos=30, cor='green')\n",
      "\u001b[0;31mNameError\u001b[0m: name 'geraGrafico' is not defined"
     ]
    }
   ],
   "source": [
    "geraGrafico(\"Date\", \"Al.Sur - metallic potential V - Volts\", solucao4, 6430, len(solucao4), -0.30, \n",
    "            solucao4[100:].min(), minutos=30, cor='green')\n"
   ]
  },
  {
   "cell_type": "markdown",
   "metadata": {},
   "source": [
    "\n",
    "\n",
    "# Programa"
   ]
  },
  {
   "cell_type": "code",
   "execution_count": 7,
   "metadata": {},
   "outputs": [],
   "source": [
    "#Necessário para os gráficos\n",
    "\n",
    "#DEBUG\n",
    "\n",
    "%matplotlib inline\n",
    "%config InlineBackend.figure_format='svg'\n",
    "\n",
    "%config InlineBackend.rc={'figure.figsize': (12, 8)}\n",
    "\n",
    "import pandas as pd\n",
    "import numpy as np\n",
    "\n",
    "from pandas.plotting import register_matplotlib_converters\n",
    "\n",
    "import matplotlib.pyplot as plt"
   ]
  },
  {
   "cell_type": "code",
   "execution_count": 8,
   "metadata": {},
   "outputs": [],
   "source": [
    "dados = pd.read_csv('DADOS.CSV', sep=',', header=None)"
   ]
  },
  {
   "cell_type": "markdown",
   "metadata": {},
   "source": [
    "### Tratamento de dados, agregações e nova tabela"
   ]
  },
  {
   "cell_type": "code",
   "execution_count": 9,
   "metadata": {},
   "outputs": [],
   "source": [
    "dados = dados.iloc[:, 0:10]\n",
    "\n",
    "horas = []\n",
    "for i in range(0, len(dados)):\n",
    "    #Modelo: 2017-01-01 05:03 \n",
    "    horas.append((\"%d-%d-%d %d:%d:%d\" %(dados[6][i], dados[5][i], \n",
    "                 dados[4][i], dados[7][i], dados[8][i], dados[9][i])))\n",
    "    \n",
    "dados = dados.iloc[:, 0:4]\n",
    "horario = pd.to_datetime(horas)\n",
    "dados = dados.join(pd.DataFrame(horario), how='outer', rsuffix=' ')\n",
    "dados = dados.set_index('0 ')\n",
    "dados.columns = ['Solucao 1', 'Solucao 2', 'Solucao 3', 'Solucao 4']\n",
    "dados.index.name = 'Horario'\n"
   ]
  },
  {
   "cell_type": "markdown",
   "metadata": {},
   "source": [
    "### Cálculo do potencial\n",
    "\n",
    "##### Sequencia:\n",
    "###### > Zinco\n",
    "##### > Aluminio\n",
    "###### > Zinco\n",
    "###### > Aluminio\n"
   ]
  },
  {
   "cell_type": "code",
   "execution_count": 10,
   "metadata": {
    "scrolled": true
   },
   "outputs": [
    {
     "data": {
      "text/html": [
       "<div>\n",
       "<style scoped>\n",
       "    .dataframe tbody tr th:only-of-type {\n",
       "        vertical-align: middle;\n",
       "    }\n",
       "\n",
       "    .dataframe tbody tr th {\n",
       "        vertical-align: top;\n",
       "    }\n",
       "\n",
       "    .dataframe thead th {\n",
       "        text-align: right;\n",
       "    }\n",
       "</style>\n",
       "<table border=\"1\" class=\"dataframe\">\n",
       "  <thead>\n",
       "    <tr style=\"text-align: right;\">\n",
       "      <th></th>\n",
       "      <th>Solucao 1</th>\n",
       "      <th>Solucao 2</th>\n",
       "      <th>Solucao 3</th>\n",
       "      <th>Solucao 4</th>\n",
       "    </tr>\n",
       "    <tr>\n",
       "      <th>Horario</th>\n",
       "      <th></th>\n",
       "      <th></th>\n",
       "      <th></th>\n",
       "      <th></th>\n",
       "    </tr>\n",
       "  </thead>\n",
       "  <tbody>\n",
       "    <tr>\n",
       "      <td>2019-10-17 13:01:50</td>\n",
       "      <td>-0.335</td>\n",
       "      <td>-0.535</td>\n",
       "      <td>-0.780</td>\n",
       "      <td>-0.767</td>\n",
       "    </tr>\n",
       "    <tr>\n",
       "      <td>2019-10-17 13:02:00</td>\n",
       "      <td>-0.338</td>\n",
       "      <td>-0.541</td>\n",
       "      <td>-0.791</td>\n",
       "      <td>-0.787</td>\n",
       "    </tr>\n",
       "    <tr>\n",
       "      <td>2019-10-17 13:03:00</td>\n",
       "      <td>-0.366</td>\n",
       "      <td>-0.549</td>\n",
       "      <td>-0.823</td>\n",
       "      <td>-0.824</td>\n",
       "    </tr>\n",
       "    <tr>\n",
       "      <td>2019-10-17 13:04:00</td>\n",
       "      <td>-0.479</td>\n",
       "      <td>-0.572</td>\n",
       "      <td>-0.833</td>\n",
       "      <td>-0.831</td>\n",
       "    </tr>\n",
       "    <tr>\n",
       "      <td>2019-10-17 13:05:00</td>\n",
       "      <td>-0.557</td>\n",
       "      <td>-0.648</td>\n",
       "      <td>-0.836</td>\n",
       "      <td>-0.836</td>\n",
       "    </tr>\n",
       "    <tr>\n",
       "      <td>...</td>\n",
       "      <td>...</td>\n",
       "      <td>...</td>\n",
       "      <td>...</td>\n",
       "      <td>...</td>\n",
       "    </tr>\n",
       "    <tr>\n",
       "      <td>2019-10-27 10:44:00</td>\n",
       "      <td>-0.823</td>\n",
       "      <td>-0.631</td>\n",
       "      <td>-0.645</td>\n",
       "      <td>-0.651</td>\n",
       "    </tr>\n",
       "    <tr>\n",
       "      <td>2019-10-27 10:45:00</td>\n",
       "      <td>-0.822</td>\n",
       "      <td>-0.631</td>\n",
       "      <td>-0.642</td>\n",
       "      <td>-0.651</td>\n",
       "    </tr>\n",
       "    <tr>\n",
       "      <td>2019-10-27 10:46:00</td>\n",
       "      <td>-0.823</td>\n",
       "      <td>-0.631</td>\n",
       "      <td>-0.648</td>\n",
       "      <td>-0.651</td>\n",
       "    </tr>\n",
       "    <tr>\n",
       "      <td>2019-10-27 10:47:00</td>\n",
       "      <td>-0.821</td>\n",
       "      <td>-0.631</td>\n",
       "      <td>-0.639</td>\n",
       "      <td>-0.650</td>\n",
       "    </tr>\n",
       "    <tr>\n",
       "      <td>2019-10-27 10:48:00</td>\n",
       "      <td>-0.822</td>\n",
       "      <td>-0.631</td>\n",
       "      <td>-0.652</td>\n",
       "      <td>-0.650</td>\n",
       "    </tr>\n",
       "  </tbody>\n",
       "</table>\n",
       "<p>14269 rows × 4 columns</p>\n",
       "</div>"
      ],
      "text/plain": [
       "                     Solucao 1  Solucao 2  Solucao 3  Solucao 4\n",
       "Horario                                                        \n",
       "2019-10-17 13:01:50     -0.335     -0.535     -0.780     -0.767\n",
       "2019-10-17 13:02:00     -0.338     -0.541     -0.791     -0.787\n",
       "2019-10-17 13:03:00     -0.366     -0.549     -0.823     -0.824\n",
       "2019-10-17 13:04:00     -0.479     -0.572     -0.833     -0.831\n",
       "2019-10-17 13:05:00     -0.557     -0.648     -0.836     -0.836\n",
       "...                        ...        ...        ...        ...\n",
       "2019-10-27 10:44:00     -0.823     -0.631     -0.645     -0.651\n",
       "2019-10-27 10:45:00     -0.822     -0.631     -0.642     -0.651\n",
       "2019-10-27 10:46:00     -0.823     -0.631     -0.648     -0.651\n",
       "2019-10-27 10:47:00     -0.821     -0.631     -0.639     -0.650\n",
       "2019-10-27 10:48:00     -0.822     -0.631     -0.652     -0.650\n",
       "\n",
       "[14269 rows x 4 columns]"
      ]
     },
     "execution_count": 10,
     "metadata": {},
     "output_type": "execute_result"
    }
   ],
   "source": [
    "dados"
   ]
  },
  {
   "cell_type": "markdown",
   "metadata": {},
   "source": [
    "##### Adicionando OFFSET dos materiais"
   ]
  },
  {
   "cell_type": "code",
   "execution_count": 11,
   "metadata": {},
   "outputs": [
    {
     "data": {
      "text/plain": [
       "Horario\n",
       "2019-10-22 01:21:00   -0.3692\n",
       "2019-10-22 01:22:00   -0.3692\n",
       "2019-10-22 01:23:00   -0.3692\n",
       "2019-10-22 01:24:00   -0.3692\n",
       "2019-10-22 01:25:00   -0.3692\n",
       "                        ...  \n",
       "2019-10-27 10:44:00   -0.3992\n",
       "2019-10-27 10:45:00   -0.3992\n",
       "2019-10-27 10:46:00   -0.3992\n",
       "2019-10-27 10:47:00   -0.3982\n",
       "2019-10-27 10:48:00   -0.3982\n",
       "Name: Solucao 4, Length: 7769, dtype: float64"
      ]
     },
     "execution_count": 11,
     "metadata": {},
     "output_type": "execute_result"
    }
   ],
   "source": [
    "solucao1 = -0.9484 - dados.iloc[:, 0]\n",
    "solucao2 = dados.iloc[:, 1] + 0.2518\n",
    "solucao3 = -0.948 - dados.iloc[:, 2] \n",
    "solucao4 = dados.iloc[:, 3] + 0.2518 \n",
    "\n",
    "solucao4[6500:]"
   ]
  },
  {
   "cell_type": "markdown",
   "metadata": {},
   "source": [
    "##### Filtrando os ruídos"
   ]
  },
  {
   "cell_type": "code",
   "execution_count": 12,
   "metadata": {},
   "outputs": [],
   "source": [
    "solucao3 = solucao3[(solucao3 <= -0.01)]"
   ]
  },
  {
   "cell_type": "code",
   "execution_count": 13,
   "metadata": {},
   "outputs": [],
   "source": [
    "def geraGrafico(nomeX, titulo, solucao, dadosmin, dadosmax, \n",
    "                limY_inf=0, limY_sup=2.5, minutos=10, cor='red'):\n",
    "    solucao = solucao.iloc[range(dadosmin, dadosmax, minutos)] \n",
    "    plt.title(titulo, fontsize=14)\n",
    "    plt.xlabel(nomeX, fontsize=14)\n",
    "    plt.ylabel(\"Potential difference in Volts\", fontsize=14)\n",
    "    \n",
    "    plt.ylim(limY_inf, limY_sup)\n",
    "    plt.grid(True, linewidth=1)\n",
    "    plt.gcf().autofmt_xdate()\n",
    "    plt.plot(solucao, color=cor)"
   ]
  },
  {
   "cell_type": "code",
   "execution_count": null,
   "metadata": {},
   "outputs": [],
   "source": []
  }
 ],
 "metadata": {
  "kernelspec": {
   "display_name": "Python 3",
   "language": "python",
   "name": "python3"
  },
  "language_info": {
   "codemirror_mode": {
    "name": "ipython",
    "version": 3
   },
   "file_extension": ".py",
   "mimetype": "text/x-python",
   "name": "python",
   "nbconvert_exporter": "python",
   "pygments_lexer": "ipython3",
   "version": "3.7.4"
  }
 },
 "nbformat": 4,
 "nbformat_minor": 2
}

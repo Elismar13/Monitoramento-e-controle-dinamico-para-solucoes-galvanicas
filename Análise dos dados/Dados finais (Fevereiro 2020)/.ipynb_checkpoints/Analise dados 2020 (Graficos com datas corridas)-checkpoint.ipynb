{
 "cells": [
  {
   "cell_type": "code",
   "execution_count": 37,
   "metadata": {},
   "outputs": [],
   "source": [
    "import pylab\n",
    "pylab.rcParams['figure.figsize'] = (12.0, 12.0)\n",
    "\n",
    "\n",
    "import pandas as pd \n",
    "import numpy as np\n",
    "import matplotlib.pyplot as plt"
   ]
  },
  {
   "cell_type": "code",
   "execution_count": 42,
   "metadata": {},
   "outputs": [],
   "source": [
    "dados = pd.read_csv('DADOS_2020.CSV', header=None)\n"
   ]
  },
  {
   "cell_type": "markdown",
   "metadata": {},
   "source": [
    "### Tratamento dos dados "
   ]
  },
  {
   "cell_type": "code",
   "execution_count": 39,
   "metadata": {},
   "outputs": [],
   "source": [
    "dias = dados.iloc[:, 4]"
   ]
  },
  {
   "cell_type": "code",
   "execution_count": 43,
   "metadata": {
    "scrolled": true
   },
   "outputs": [
    {
     "data": {
      "text/plain": [
       "0         2019-10-17\n",
       "659       2019-10-18\n",
       "2099      2019-10-19\n",
       "3539      2019-10-20\n",
       "4979      2019-10-21\n",
       "             ...    \n",
       "112407     2020-1-13\n",
       "113847     2020-1-14\n",
       "115287     2020-1-15\n",
       "116727     2020-1-16\n",
       "118167     2020-1-17\n",
       "Length: 87, dtype: object"
      ]
     },
     "execution_count": 43,
     "metadata": {},
     "output_type": "execute_result"
    }
   ],
   "source": [
    "dados = dados.iloc[:,0:10]\n",
    "\n",
    "dias = []\n",
    "horas = []\n",
    "#print(dados[4][0])\n",
    "\n",
    "\n",
    "\n",
    "for i in range(0, len(dados)):\n",
    "    #Modelo: 2017-01-01 05:03 \n",
    "    dias.append((\"%d-%d-%d\" %(dados[6][i], dados[5][i], \n",
    "                 dados[4][i])))\n",
    "    horas.append((\"%d-%d-%d %d:%d:%d\" %(dados[6][i], dados[5][i], \n",
    "                 dados[4][i], dados[7][i], dados[8][i], dados[9][i])))\n",
    "                \n",
    "    \n",
    "dados = dados.iloc[:, 0:4]\n",
    "horario = pd.to_datetime(horas)\n",
    "dados = dados.join(pd.DataFrame(horario), how='outer', rsuffix=' ')\n",
    "dados.columns = ['Solução 1', 'Solução 2', 'Solução 3', 'Solução 4', 'Horario']\n",
    "dados = dados.set_index('Horario')\n",
    "\n",
    "\n"
   ]
  },
  {
   "cell_type": "code",
   "execution_count": null,
   "metadata": {},
   "outputs": [],
   "source": [
    "def geraGrafico(nomeX, titulo, solucao, dadosmin, dadosmax, \n",
    "                limY_inf=0, limY_sup=2.5, minutos=1, cor='red'):\n",
    "    solucao = solucao.iloc[range(dadosmin, dadosmax, minutos)] \n",
    "    plt.title(titulo, fontsize=14)\n",
    "    plt.xlabel(nomeX, fontsize=14)\n",
    "    plt.ylabel(\"Potential difference in Volts\", fontsize=14)\n",
    "    \n",
    "    plt.ylim(limY_inf, limY_sup)\n",
    "    plt.grid(True, linewidth=1)\n",
    "    plt.gcf().autofmt_xdate()\n",
    "    plt.plot(solucao, color=cor)"
   ]
  },
  {
   "cell_type": "code",
   "execution_count": null,
   "metadata": {},
   "outputs": [],
   "source": [
    "def FiltraPositivo(serie):\n",
    "    for elemento in range(len(serie)):\n",
    "        if(serie[elemento] > 0.00):\n",
    "            serie[elemento] = -serie[elemento]"
   ]
  },
  {
   "cell_type": "markdown",
   "metadata": {},
   "source": [
    "### Filtrando os dados"
   ]
  },
  {
   "cell_type": "code",
   "execution_count": null,
   "metadata": {},
   "outputs": [],
   "source": [
    "solucao1 = dados.iloc[:, 0].dropna()\n",
    "solucao1 = solucao1[(solucao1 >= -1.1) & (solucao1 <= 0.0)] \n",
    "\n",
    "solucao2 = dados.iloc[:, 1].dropna()\n",
    "solucao2 = solucao2[solucao2 >= -1.1] \n",
    "\n",
    "solucao3 = dados.iloc[:, 2].dropna()\n",
    "solucao3 = solucao3[solucao3 >= -1.1] \n",
    "\n",
    "solucao4 = dados.iloc[:, 3].dropna()\n",
    "solucao4 = solucao4[solucao4 >= -0.7] \n",
    "\n",
    "\n",
    "solucao1 = -0.9484 - solucao1\n",
    "solucao2 = solucao2 + 0.2518\n",
    "solucao3 = -0.9484 - solucao3\n",
    "solucao4 = solucao4 + 0.2518\n",
    "\n",
    "FiltraPositivo(solucao1)\n",
    "FiltraPositivo(solucao2)\n",
    "#FiltraPositivo(solucao3)\n",
    "FiltraPositivo(solucao4)\n"
   ]
  },
  {
   "cell_type": "markdown",
   "metadata": {},
   "source": [
    "### Transformando as Datas"
   ]
  },
  {
   "cell_type": "markdown",
   "metadata": {},
   "source": [
    "### Dados não filtrados"
   ]
  },
  {
   "cell_type": "code",
   "execution_count": null,
   "metadata": {},
   "outputs": [],
   "source": [
    "geraGrafico(\"Date\", \"Zn.Oxi - metallic potential V - Volts\", solucao1, 7420, len(solucao1), 0, -1, 10, cor='green')"
   ]
  },
  {
   "cell_type": "code",
   "execution_count": null,
   "metadata": {},
   "outputs": [],
   "source": [
    "geraGrafico(\"Date\", \"Al.Oxi - metallic potential V - Volts\",solucao2, 7420, len(solucao2),\n",
    "            0, -0.8, 10, 'blue')"
   ]
  },
  {
   "cell_type": "code",
   "execution_count": null,
   "metadata": {
    "scrolled": false
   },
   "outputs": [],
   "source": [
    "geraGrafico(\"Date\", \"Zn.sur - metallic potential V - Volts\", solucao3, 7420, len(solucao3), 0, -0.72, 10, 'red')"
   ]
  },
  {
   "cell_type": "code",
   "execution_count": null,
   "metadata": {
    "scrolled": false
   },
   "outputs": [],
   "source": [
    "geraGrafico(\"Date\", \"Al.Sur - metallic potential V - Volts\",solucao4, 0, len(solucao4), 0, -0.5, 10, 'black')"
   ]
  },
  {
   "cell_type": "markdown",
   "metadata": {},
   "source": [
    "### Dados Filtrados"
   ]
  },
  {
   "cell_type": "code",
   "execution_count": null,
   "metadata": {},
   "outputs": [],
   "source": [
    "Solucao1Filtrada = solucao1.rolling(window=1000).mean()\n",
    "Solucao1Filtrada.count()"
   ]
  },
  {
   "cell_type": "code",
   "execution_count": null,
   "metadata": {},
   "outputs": [],
   "source": [
    "Solucao2Filtrada = solucao2.rolling(window=1000).mean()\n",
    "print(Solucao2Filtrada.count())\n",
    "Solucao2Filtrada = Solucao2Filtrada[Solucao2Filtrada > -0.62]"
   ]
  },
  {
   "cell_type": "code",
   "execution_count": null,
   "metadata": {},
   "outputs": [],
   "source": [
    "Solucao3Filtrada = solucao3.rolling(window=1000).mean()\n",
    "print(Solucao3Filtrada.count())\n",
    "Solucao3Filtrada = Solucao3Filtrada[Solucao3Filtrada > -0.35]"
   ]
  },
  {
   "cell_type": "code",
   "execution_count": null,
   "metadata": {},
   "outputs": [],
   "source": [
    "Solucao4Filtrada = solucao4.rolling(window=1000).mean()\n",
    "Solucao4Filtrada.count()"
   ]
  },
  {
   "cell_type": "code",
   "execution_count": null,
   "metadata": {},
   "outputs": [],
   "source": [
    "geraGrafico(\"Date\", \"Zn.Oxi - metallic potential V - Volts\", Solucao1Filtrada, 700, len(Solucao1Filtrada), 0, -1, 10, cor='green')"
   ]
  },
  {
   "cell_type": "code",
   "execution_count": null,
   "metadata": {
    "scrolled": false
   },
   "outputs": [],
   "source": [
    "geraGrafico(\"Date\", \"Al.Oxi - metallic potential V - Volts\",Solucao2Filtrada, 700, len(Solucao2Filtrada),\n",
    "            0, -0.8, 10, 'blue')"
   ]
  },
  {
   "cell_type": "code",
   "execution_count": null,
   "metadata": {
    "scrolled": false
   },
   "outputs": [],
   "source": [
    "geraGrafico(\"Date\", \"Zn.sur - metallic potential V - Volts\", Solucao3Filtrada, 700, len(Solucao3Filtrada), 0, -0.35, 10, 'red')"
   ]
  },
  {
   "cell_type": "code",
   "execution_count": null,
   "metadata": {},
   "outputs": [],
   "source": [
    "geraGrafico(\"Date\", \"Al.Sur - metallic potential V - Volts\",Solucao4Filtrada, 0, len(Solucao4Filtrada), 0, -0.5, 10, 'black')"
   ]
  },
  {
   "cell_type": "markdown",
   "metadata": {},
   "source": [
    "### Dias de captura dos dados"
   ]
  },
  {
   "cell_type": "code",
   "execution_count": null,
   "metadata": {},
   "outputs": [],
   "source": []
  }
 ],
 "metadata": {
  "kernelspec": {
   "display_name": "Python 3",
   "language": "python",
   "name": "python3"
  },
  "language_info": {
   "codemirror_mode": {
    "name": "ipython",
    "version": 3
   },
   "file_extension": ".py",
   "mimetype": "text/x-python",
   "name": "python",
   "nbconvert_exporter": "python",
   "pygments_lexer": "ipython3",
   "version": "3.7.4"
  }
 },
 "nbformat": 4,
 "nbformat_minor": 2
}
